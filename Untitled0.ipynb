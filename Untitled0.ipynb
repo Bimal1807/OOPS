{
  "nbformat": 4,
  "nbformat_minor": 0,
  "metadata": {
    "colab": {
      "provenance": []
    },
    "kernelspec": {
      "name": "python3",
      "display_name": "Python 3"
    },
    "language_info": {
      "name": "python"
    }
  },
  "cells": [
    {
      "cell_type": "markdown",
      "source": [
        "**THEORY QUESTIONS**"
      ],
      "metadata": {
        "id": "tp1z83E-zzEb"
      }
    },
    {
      "cell_type": "markdown",
      "source": [
        "Ques 1- What is Object-Oriented Programming (OOP)?\n",
        "\n",
        "Ans 1- Object-oriented programming (OOP) is a computer programming model that organizes software design around objects, or data, instead of logic and functions. In OOP, programs are built by creating objects that interact with each other."
      ],
      "metadata": {
        "id": "qqWz7oaV0USv"
      }
    },
    {
      "cell_type": "markdown",
      "source": [
        "Ques 2-  What is a class in OOPC ?\n",
        "\n",
        "Ans 2- In object-oriented programming (OOP), a class is a template that defines the methods and variables for a specific type of object."
      ],
      "metadata": {
        "id": "3fOCcvwd1rY7"
      }
    },
    {
      "cell_type": "markdown",
      "source": [
        "Ques 3- What is an object in OOP ?\n",
        "\n",
        "Ans 3- Objects are the basic building blocks of OOP applications. They are created using classes, which define their structure. Objects can interact with each other through defined interfaces."
      ],
      "metadata": {
        "id": "GSy995nT2hi8"
      }
    },
    {
      "cell_type": "markdown",
      "source": [
        "Ques 4- What is the difference between abstraction and encapsulation ?\n",
        "\n",
        "Ans 4- Abstraction is the process of hiding unnecessary details about an object to simplify complexity and increase efficiency, while encapsulation is the process of restricting access to some components of an object\n",
        "\n",
        "Abstraction Focuses on the essential features of an object, hiding complex implementation details. Abstraction can be implemented using abstract classes and interfaces.\n",
        "\n",
        "Encapsulation Secures data and functions within a class, preventing unauthorized access and modification. Encapsulation can be implemented using access modifiers like private, protected, and public."
      ],
      "metadata": {
        "id": "DYxWixnF3ZA2"
      }
    },
    {
      "cell_type": "markdown",
      "source": [
        "Ques 5- What are dunder methods in Python ?\n",
        "\n",
        "Ans 5- Dunder methods, also known as magic methods or special methods, are predefined methods in Python that add special functionality to classes and objects\n",
        "\n",
        "Dunder methods are recognized by the double underscore format, such as __methodname__(). The term \"dunder\" is short for \"double underscore\".\n",
        "\n",
        "Dunder methods allow you to customize the behavior of your objects and make them work with Python's language constructs. For example, you can use dunder methods to perform arithmetic operations on numeric-type attributes, initialize a new class instance, or overload certain methods."
      ],
      "metadata": {
        "id": "lLgiVHpg4aPp"
      }
    },
    {
      "cell_type": "markdown",
      "source": [
        "Ques 6- Explain the concept of inheritance in OOPS.\n",
        "\n",
        "Ans 6- inheritance is a fundamental concept in object-oriented programming (OOP) that allows a class to inherit properties and behaviors from another class. This process establishes a hierarchical relationship between classes, and promotes code reuse and easy maintenance."
      ],
      "metadata": {
        "id": "VIc8t2a15nYl"
      }
    },
    {
      "cell_type": "markdown",
      "source": [
        "Ques 7- What is polymorphism in OOP ?\n",
        "\n",
        "Ans 7- Polymorphism is a core feature of object-oriented programming (OOP) that allows a variable, function, or object to have multiple forms. The word polymorphism comes from Greek and means \"having multiple forms\".\n"
      ],
      "metadata": {
        "id": "hehs0hjl513a"
      }
    },
    {
      "cell_type": "markdown",
      "source": [
        "Ques 8- How is encapsulation achieved in Python ?\n",
        "\n",
        "Ans 8- In Python, encapsulation is achieved by using access modifiers to limit access to a class's variables and methods:\n",
        "\n",
        "Public - Attributes and methods are public by default, meaning they can be accessed from outside the class.\n",
        "\n",
        "Private - Use a double underscore prefix (__) to make an attribute private. Private members are only accessible within the class and are intended for internal use.\n",
        "\n",
        "Protected - Use a single underscore prefix (_) to indicate that an attribute is meant for internal use within the class and its subclass. Protected members are not as strictly enforced as private members."
      ],
      "metadata": {
        "id": "swqAXY-U6FnZ"
      }
    },
    {
      "cell_type": "markdown",
      "source": [
        "Ques 9- What is a constructor in Python ?\n",
        "\n",
        "Ans 9-  A constructor in Python is a special method that's automatically called when an object of a class is created."
      ],
      "metadata": {
        "id": "7a8rzKSq6nik"
      }
    },
    {
      "cell_type": "markdown",
      "source": [
        "Ques 10- What are class and static methods in Python?\n",
        "\n",
        "Ans 10- A class method takes cls as the first parameter while a static method needs no specific parameters. A class method can access or modify the class state while a static method can't access or modify it."
      ],
      "metadata": {
        "id": "Dt7oXV2J65uk"
      }
    },
    {
      "cell_type": "markdown",
      "source": [
        "Ques 11- What is method overloading in Python?\n",
        "\n",
        "Ans 11- Method overloading is a concept in Python that allows a single function to operate with different input types or parameters. It's a primary concept in object-oriented programming in Python."
      ],
      "metadata": {
        "id": "5hRQ5hx27Nwn"
      }
    },
    {
      "cell_type": "markdown",
      "source": [
        "Ques 12- What is method overriding in OOP?\n",
        "\n",
        "Ans 12- Method overriding is a feature in object-oriented programming (OOP) that allows a subclass to replace a method in its superclass with its own implementation. The subclass method must have the same name, parameters, signature, and return type as the superclass method.\n",
        "\n"
      ],
      "metadata": {
        "id": "C8844_V17YgG"
      }
    },
    {
      "cell_type": "markdown",
      "source": [
        "Ques 13- What is a property decorator in Python?\n",
        "\n",
        "Ans 13- The Basics of @property the decorator is a built-in Python decorator that allows you to turn class methods into properties in a way that's both elegant and user-friendly."
      ],
      "metadata": {
        "id": "3hbG4HLh7oEN"
      }
    },
    {
      "cell_type": "markdown",
      "source": [
        "Ques 14- Why is polymorphism important in OOP?\n",
        "\n",
        "Ans 14- Polymorphism is an important feature of object-oriented programming (OOP) because it allows for code reusability, flexibility, and extensibility."
      ],
      "metadata": {
        "id": "AP0zTPt777p-"
      }
    },
    {
      "cell_type": "markdown",
      "source": [
        "Ques 15- What is an abstract class in Python?\n",
        "\n",
        "Ans 15- In Python, an abstract class is a class that cannot be instantiated on its own and is designed to be a blueprint for other classes.\n",
        "The @abstractmethod decorator is used to define abstract methods. For example, @abstractmethod def abstract_method(self): pass."
      ],
      "metadata": {
        "id": "1BHhyO_j8HFw"
      }
    },
    {
      "cell_type": "markdown",
      "source": [
        "Ques 16- What are the advantages of OOP?\n",
        "\n",
        "Ans 16- Object-Oriented Programming (OOP) has many advantages, including:\n",
        "\n",
        "**Modularity**\n",
        "\n",
        "OOP allows developers to break down complex systems into smaller, more manageable objects. This makes it easier to troubleshoot and collaborate.\n",
        "\n",
        "**Reusability**\n",
        "\n",
        "OOP allows developers to reuse code through inheritance, saving time and effort.\n",
        "\n",
        "**Flexibility**\n",
        "\n",
        "OOP's polymorphism feature allows a single function to adapt to the class it's in. This makes it easier to scale and extend software systems.\n",
        "\n",
        "**Security**\n",
        "\n",
        "OOP's encapsulation feature bundles data to protect it from unintended corruption."
      ],
      "metadata": {
        "id": "F0NgFVFi8gB-"
      }
    },
    {
      "cell_type": "markdown",
      "source": [
        "Ques 17- What is the difference between a class variable and an instance variable?\n",
        "\n",
        "Ans 17- Class variables are defined within the class but outside of any class methods. Instance variables are defined within class methods, typically the constructor.\n",
        "\n",
        "Changes made to the class variable affect all instances. Changes made to the instance variable does not affect all instances."
      ],
      "metadata": {
        "id": "REVeFxvI9u47"
      }
    },
    {
      "cell_type": "markdown",
      "source": [
        "Ques 18- What is multiple inheritance in Python?\n",
        "\n",
        "Ans 18- Multiple inheritance is a feature in Python that allows a class to inherit properties and methods from more than one parent class. For example, a class called Bat could inherit from the superclasses Mammal and WingedAnimal."
      ],
      "metadata": {
        "id": "APPvdtA1-07i"
      }
    },
    {
      "cell_type": "markdown",
      "source": [
        "Ques 19- Explain the purpose of ‘’__str__’ and ‘__repr__’ ‘ methods in Python.\n",
        "\n",
        "Ans 19- __str__\n",
        "Returns a human-readable string representation of an object. This method is called when the print(), str(), or format() functions are used. __str__ is intended for users and is useful for printing objects.\n",
        "\n",
        "__repr__\n",
        "Returns a more informative string representation of an object. This method is called when the repr() function is used or when an object is displayed in the interactive shell. __repr__ is intended for developers and is useful for debugging, logging, and object inspection."
      ],
      "metadata": {
        "id": "NFzEz9P4_TYH"
      }
    },
    {
      "cell_type": "markdown",
      "source": [
        "Ques 20- What is the significance of the ‘super()’ function in Python?\n",
        "\n",
        "Ans 20- The super() function is used to give access to methods and properties of a parent or sibling class. The super() function returns an object that represents the parent class."
      ],
      "metadata": {
        "id": "5i1K37oE_qyv"
      }
    },
    {
      "cell_type": "markdown",
      "source": [
        "Ques 21- What is the significance of the __del__ method in Python?\n",
        "\n",
        "Ans 21- The del method in Python, also known as a destructor method, is called when an object is about to be destroyed. It's used to perform cleanup, release resources, or other \"finalization\" actions."
      ],
      "metadata": {
        "id": "89ketLHSAAk9"
      }
    },
    {
      "cell_type": "markdown",
      "source": [
        "Ques 22- What is the difference between @staticmethod and @classmethod in Python?\n",
        "\n",
        "Ans 22- @classmethod methods can access or modify the class state, while @staticmethod methods are typically unaware of the class state.\n",
        "\n",
        "@classmethod methods are typically called on the class itself, but can also be called on an instance of the class. @staticmethod methods can be called on the class or on an instance of the class."
      ],
      "metadata": {
        "id": "zGWCt29LAT5x"
      }
    },
    {
      "cell_type": "markdown",
      "source": [
        "Ques 23- How does polymorphism work in Python with inheritance?\n",
        "\n",
        "Ans 23- Polymorphism, a child class method is allowed to have the same name as the class methods in the parent class. In inheritance, the methods belonging to the parent class are passed down to the child class. It's also possible to change a method that a child class has inherited from its parent."
      ],
      "metadata": {
        "id": "aCVh_qbbApxU"
      }
    },
    {
      "cell_type": "markdown",
      "source": [
        "Ques 24- What is method chaining in Python OOP?\n",
        "\n",
        "Ans 24- Method chaining refers to calling multiple methods sequentially on the same object in a single expression. Each method call returns an object, often the same object (modified or not), allowing the subsequent method to operate on that object."
      ],
      "metadata": {
        "id": "fYSMFd0yA1Fd"
      }
    },
    {
      "cell_type": "markdown",
      "source": [
        "Ques 25- What is the purpose of the __call__ method in Python?\n",
        "\n",
        "Ans 25- The __call__ method is part of Python build-in methods also called dunder or magic methods because have two prefixes and suffix underscores in the method name. The main idea of __call__ method is to write a class and invoke it like a function. You can refer to it as callable object."
      ],
      "metadata": {
        "id": "iKpLFQUeBDQk"
      }
    },
    {
      "cell_type": "markdown",
      "source": [
        "**PRACTICAL QUESTIONS**"
      ],
      "metadata": {
        "id": "TXpJi-o1BSXe"
      }
    },
    {
      "cell_type": "markdown",
      "source": [
        "Ques 1- Create a parent class Animal with a method speak() that prints a generic message. Create a child class Dog that overrides the speak() method to print \"Bark!\"."
      ],
      "metadata": {
        "id": "6M4EQTd9BX3Q"
      }
    },
    {
      "cell_type": "code",
      "source": [
        "#Ans 1-\n",
        "class Animal:\n",
        "    def speak(self):\n",
        "        print(\"Generic animal sound\")\n",
        "\n",
        "class Dog(Animal):\n",
        "    def speak(self):\n",
        "        print(\"Bark!\")\n",
        "\n",
        "# example\n",
        "animal = Animal()\n",
        "animal.speak()\n",
        "\n",
        "dog = Dog()\n",
        "dog.speak()"
      ],
      "metadata": {
        "colab": {
          "base_uri": "https://localhost:8080/"
        },
        "id": "NgbdxACSBtX9",
        "outputId": "3c051165-1b00-427a-9ae1-60c1c87884f1"
      },
      "execution_count": 4,
      "outputs": [
        {
          "output_type": "stream",
          "name": "stdout",
          "text": [
            "Generic animal sound\n",
            "Bark!\n"
          ]
        }
      ]
    },
    {
      "cell_type": "markdown",
      "source": [
        "Ques 2- Write a program to create an abstract class Shape with a method area(). Derive classes Circle and Rectangle from it and implement the area() method in both."
      ],
      "metadata": {
        "id": "vnQmWw8sCEi6"
      }
    },
    {
      "cell_type": "code",
      "source": [
        "#Ans 2-\n",
        "from abc import ABC, abstractmethod\n",
        "\n",
        "class Shape(ABC):\n",
        "    @abstractmethod\n",
        "    def area(self):\n",
        "        pass\n",
        "\n",
        "class Circle(Shape):\n",
        "    def __init__(self, radius):\n",
        "        self.radius = radius\n",
        "\n",
        "    def area(self):\n",
        "        return 3.14159 * self.radius ** 2\n",
        "\n",
        "class Rectangle(Shape):\n",
        "    def __init__(self, length, width):\n",
        "        self.length = length\n",
        "        self.width = width\n",
        "\n",
        "    def area(self):\n",
        "        return self.length * self.width\n",
        "\n",
        "#example\n",
        "\n",
        "circle = Circle(5)\n",
        "print(circle.area())\n",
        "\n",
        "rectangle = Rectangle(4, 6)\n",
        "print(rectangle.area())\n",
        "\n"
      ],
      "metadata": {
        "colab": {
          "base_uri": "https://localhost:8080/"
        },
        "id": "4hs-NnSpCJDN",
        "outputId": "d41cbcb6-e2cd-4296-bc1d-a4dc7a800124"
      },
      "execution_count": 6,
      "outputs": [
        {
          "output_type": "stream",
          "name": "stdout",
          "text": [
            "78.53975\n",
            "24\n"
          ]
        }
      ]
    },
    {
      "cell_type": "markdown",
      "source": [
        "Ques 3-  Implement a multi-level inheritance scenario where a class Vehicle has an attribute type. Derive a class Car and further derive a class ElectricCar that adds a battery attribute."
      ],
      "metadata": {
        "id": "YaaAb5CJDLxW"
      }
    },
    {
      "cell_type": "code",
      "source": [
        "#Ans 3-\n",
        "class Vehicle:\n",
        "    def __init__(self, type):\n",
        "        self.type = type\n",
        "\n",
        "class Car(Vehicle):\n",
        "    def __init__(self, type, brand):\n",
        "        super().__init__(type)\n",
        "        self.brand = brand\n",
        "\n",
        "class ElectricCar(Car):\n",
        "    def __init__(self, type, brand, battery):\n",
        "        super().__init__(type, brand)\n",
        "        self.battery = battery\n",
        "\n",
        "#example\n",
        "car = ElectricCar(\"Car\", \"Tesla\", \"Li-ion\")\n",
        "print(car.type)\n",
        "print(car.brand)\n",
        "print(car.battery)"
      ],
      "metadata": {
        "colab": {
          "base_uri": "https://localhost:8080/"
        },
        "id": "uE7gtmHwBw-8",
        "outputId": "00f9ec4d-f638-4238-a3fa-704b68b75d03"
      },
      "execution_count": 7,
      "outputs": [
        {
          "output_type": "stream",
          "name": "stdout",
          "text": [
            "Car\n",
            "Tesla\n",
            "Li-ion\n"
          ]
        }
      ]
    },
    {
      "cell_type": "markdown",
      "source": [
        "Ques 4- Implement a multi-level inheritance scenario where a class Vehicle has an attribute type. Derive a class Car and further derive a class ElectricCar that adds a battery attribute."
      ],
      "metadata": {
        "id": "BxVQiSBVDySu"
      }
    },
    {
      "cell_type": "code",
      "source": [
        "#Ans 4-\n",
        "class Vehicle:\n",
        "    def __init__(self, type):\n",
        "        self.type = type\n",
        "\n",
        "class Car(Vehicle):\n",
        "    def __init__(self, type, brand):\n",
        "        super().__init__(type)\n",
        "        self.brand = brand\n",
        "\n",
        "class ElectricCar(Car):\n",
        "    def __init__(self, type, brand, battery):\n",
        "        super().__init__(type, brand)\n",
        "        self.battery = battery\n",
        "\n",
        "#example\n",
        "car = ElectricCar(\"Car\", \"Tesla\", \"Li-ion\")\n",
        "print(car.type)\n",
        "print(car.brand)\n",
        "print(car.battery)"
      ],
      "metadata": {
        "colab": {
          "base_uri": "https://localhost:8080/"
        },
        "id": "mr1sVjC3Dv0x",
        "outputId": "4ed07e67-0b06-46a9-e676-5d7061419a4f"
      },
      "execution_count": 9,
      "outputs": [
        {
          "output_type": "stream",
          "name": "stdout",
          "text": [
            "Car\n",
            "Tesla\n",
            "Li-ion\n"
          ]
        }
      ]
    },
    {
      "cell_type": "markdown",
      "source": [
        "Ques 5- Write a program to demonstrate encapsulation by creating a class BankAccount with private attributes balance and methods to deposit, withdraw, and check balance."
      ],
      "metadata": {
        "id": "-6loW0tsEUL9"
      }
    },
    {
      "cell_type": "code",
      "source": [
        "#Ans 5-\n",
        "class BankAccount:\n",
        "    def __init__(self):\n",
        "        self.__balance = 0\n",
        "\n",
        "    def deposit(self, amount):\n",
        "        self.__balance += amount\n",
        "\n",
        "    def withdraw(self, amount):\n",
        "        if amount <= self.__balance:\n",
        "            self.__balance -= amount\n",
        "        else:\n",
        "            print(\"Insufficient funds!\")\n",
        "\n",
        "    def check_balance(self):\n",
        "        print(\"Balance:\", self.__balance)\n",
        "\n",
        "# example usage\n",
        "account = BankAccount()\n",
        "account.deposit(1500)\n",
        "account.withdraw(750)\n",
        "account.check_balance()\n",
        "\n"
      ],
      "metadata": {
        "colab": {
          "base_uri": "https://localhost:8080/"
        },
        "id": "vtrvAawQEahQ",
        "outputId": "5b2f5ff7-8ed5-4026-b01f-8a655ede0817"
      },
      "execution_count": 11,
      "outputs": [
        {
          "output_type": "stream",
          "name": "stdout",
          "text": [
            "Balance: 750\n"
          ]
        }
      ]
    },
    {
      "cell_type": "markdown",
      "source": [
        "Ques 6-  Demonstrate runtime polymorphism using a method play() in a base class Instrument. Derive classes Guitar and Piano that implement their own version of play().\n",
        "\n"
      ],
      "metadata": {
        "id": "XYlLcgu3EtUQ"
      }
    },
    {
      "cell_type": "code",
      "source": [
        "#Ans 6-\n",
        "class Instrument:\n",
        "    def play(self):\n",
        "        pass\n",
        "\n",
        "class Guitar(Instrument):\n",
        "    def play(self):\n",
        "        print(\"Playing guitar!\")\n",
        "\n",
        "class Piano(Instrument):\n",
        "    def play(self):\n",
        "        print(\"Playing piano!\")\n",
        "\n",
        "# example\n",
        "instr1 = Guitar()\n",
        "instr2 = Piano()\n",
        "\n",
        "instr1.play()\n",
        "instr2.play()"
      ],
      "metadata": {
        "colab": {
          "base_uri": "https://localhost:8080/"
        },
        "id": "qHjNXH4FEfph",
        "outputId": "89ea4b81-aeb5-4370-d5d6-8cdc3d01e52b"
      },
      "execution_count": 13,
      "outputs": [
        {
          "output_type": "stream",
          "name": "stdout",
          "text": [
            "Playing guitar!\n",
            "Playing piano!\n"
          ]
        }
      ]
    },
    {
      "cell_type": "markdown",
      "source": [
        "Ques 7- Create a class MathOperations with a class method add_numbers() to add two numbers and a static method subtract_numbers() to subtract two numbers."
      ],
      "metadata": {
        "id": "sqWYRbZaFCJY"
      }
    },
    {
      "cell_type": "code",
      "source": [
        "#Ans 7-\n",
        "class MathOperations:\n",
        "    @classmethod\n",
        "    def add_numbers(cls, num1, num2):\n",
        "        return num1 + num2\n",
        "\n",
        "    @staticmethod\n",
        "    def subtract_numbers(num1, num2):\n",
        "        return num1 - num2\n",
        "\n",
        "#example\n",
        "print(MathOperations.add_numbers(8, 6))\n",
        "print(MathOperations.subtract_numbers(10, 4))"
      ],
      "metadata": {
        "colab": {
          "base_uri": "https://localhost:8080/"
        },
        "id": "Aa9TpxN3E0e-",
        "outputId": "06dff736-4b7b-412c-e63b-4984a91b31b1"
      },
      "execution_count": 16,
      "outputs": [
        {
          "output_type": "stream",
          "name": "stdout",
          "text": [
            "14\n",
            "6\n"
          ]
        }
      ]
    },
    {
      "cell_type": "markdown",
      "source": [
        "Ques 8-  Implement a class Person with a class method to count the total number of persons created."
      ],
      "metadata": {
        "id": "GRWkXgwwFfXv"
      }
    },
    {
      "cell_type": "code",
      "source": [
        "#Ans 8-\n",
        "class Person:\n",
        "    count = 0\n",
        "\n",
        "    def __init__(self, name, age):\n",
        "        self.name = name\n",
        "        self.age = age\n",
        "        Person.count += 1\n",
        "\n",
        "#example\n",
        "person1 = Person(\"Alice\", 25)\n",
        "person2 = Person(\"Bob\", 30)\n",
        "print(Person.count)"
      ],
      "metadata": {
        "colab": {
          "base_uri": "https://localhost:8080/"
        },
        "id": "8yYhqoqQFL1q",
        "outputId": "ba4cfbb3-c7cd-4385-9d3b-05dfb03b30bf"
      },
      "execution_count": 17,
      "outputs": [
        {
          "output_type": "stream",
          "name": "stdout",
          "text": [
            "2\n"
          ]
        }
      ]
    },
    {
      "cell_type": "markdown",
      "source": [
        "Ques 9- Write a class Fraction with attributes numerator and denominator. Override the str method to display the fraction as \"numerator/denominator\"."
      ],
      "metadata": {
        "id": "0ZZU0rqnFy5f"
      }
    },
    {
      "cell_type": "code",
      "source": [
        "#Ans 9-\n",
        "class Fraction:\n",
        "    def __init__(self, numerator, denominator):\n",
        "        self.numerator = numerator\n",
        "        self.denominator = denominator\n",
        "\n",
        "    def __str__(self):\n",
        "        return f\"{self.numerator}/{self.denominator}\"\n",
        "\n",
        "#example\n",
        "obj = Fraction(3, 4)\n",
        "print(obj)"
      ],
      "metadata": {
        "colab": {
          "base_uri": "https://localhost:8080/"
        },
        "id": "WyAT8pz7FsMz",
        "outputId": "0e9a7480-14c0-48be-9bf5-51aa87c0ce3c"
      },
      "execution_count": 18,
      "outputs": [
        {
          "output_type": "stream",
          "name": "stdout",
          "text": [
            "3/4\n"
          ]
        }
      ]
    },
    {
      "cell_type": "markdown",
      "source": [
        "Ques 10-  Demonstrate operator overloading by creating a class Vector and overriding the add method to add two vectors.\n",
        "\n",
        "\n"
      ],
      "metadata": {
        "id": "abW06ftyGHTK"
      }
    },
    {
      "cell_type": "code",
      "source": [
        "#Ans 10-\n",
        "class Vector:\n",
        "    def __init__(self, x, y):\n",
        "        self.x = x\n",
        "        self.y = y\n",
        "\n",
        "    def __add__(self, other):\n",
        "        return Vector(self.x + other.x, self.y + other.y)\n",
        "\n",
        "    def __str__(self):\n",
        "        return f\"({self.x}, {self.y})\"\n",
        "\n",
        "#example\n",
        "v1 = Vector(9, 5)\n",
        "v2 = Vector(6, 3)\n",
        "result = v1 + v2\n",
        "print(result)"
      ],
      "metadata": {
        "colab": {
          "base_uri": "https://localhost:8080/"
        },
        "id": "HD5l4e9TGC-p",
        "outputId": "634636e9-531a-4550-8924-83c32c5e1661"
      },
      "execution_count": 19,
      "outputs": [
        {
          "output_type": "stream",
          "name": "stdout",
          "text": [
            "(15, 8)\n"
          ]
        }
      ]
    },
    {
      "cell_type": "markdown",
      "source": [
        "Ques 11-  Create a class Person with attributes name and age. Add a method greet() that prints \"Hello, my name is {name} and I am {age} years old.\""
      ],
      "metadata": {
        "id": "Y_d2lUn4GniU"
      }
    },
    {
      "cell_type": "code",
      "source": [
        "#Ans 11-\n",
        "class Person:\n",
        "    def __init__(self, name, age):\n",
        "        self.name = name\n",
        "        self.age = age\n",
        "\n",
        "    def greet(self):\n",
        "        print(f\"Hello, my name is {self.name} and I am {self.age} years old.\")\n",
        "\n",
        "#example\n",
        "person = Person(\"Bimal\", 26)\n",
        "person.greet()"
      ],
      "metadata": {
        "colab": {
          "base_uri": "https://localhost:8080/"
        },
        "id": "s1QNmruWGeiY",
        "outputId": "66a932c7-d664-4d2e-931c-da7ec7a174df"
      },
      "execution_count": 22,
      "outputs": [
        {
          "output_type": "stream",
          "name": "stdout",
          "text": [
            "Hello, my name is Bimal and I am 26 years old.\n"
          ]
        }
      ]
    },
    {
      "cell_type": "markdown",
      "source": [
        "Ques 12-  Implement a class Student with attributes name and grades. Create a method average_grade() to compute the average of the grades."
      ],
      "metadata": {
        "id": "rojOyPwfHWYc"
      }
    },
    {
      "cell_type": "code",
      "source": [
        "#Ans 12-\n",
        "class Student:\n",
        "    def __init__(self, name, grades):\n",
        "        self.name = name\n",
        "        self.grades = grades\n",
        "\n",
        "    def average_grade(self):\n",
        "        return sum(self.grades) / len(self.grades)\n",
        "\n",
        "#example\n",
        "student = Student(\"Bimal\", [85, 90, 92, 88])\n",
        "print(student.average_grade())"
      ],
      "metadata": {
        "colab": {
          "base_uri": "https://localhost:8080/"
        },
        "id": "TpVXSnO0GujF",
        "outputId": "8286c00b-b300-4264-b364-a104576d1dac"
      },
      "execution_count": 23,
      "outputs": [
        {
          "output_type": "stream",
          "name": "stdout",
          "text": [
            "88.75\n"
          ]
        }
      ]
    },
    {
      "cell_type": "markdown",
      "source": [
        "Ques 13- Create a class Rectangle with methods set_dimensions() to set the dimensions and area() to calculate the area."
      ],
      "metadata": {
        "id": "fbprmAHGHdwa"
      }
    },
    {
      "cell_type": "code",
      "source": [
        "#Ans 13-\n",
        "class Rectangle:\n",
        "    def __init__(self):\n",
        "        self.length = 0\n",
        "        self.width = 0\n",
        "\n",
        "    def set_dimensions(self, length, width):\n",
        "        self.length = length\n",
        "        self.width = width\n",
        "\n",
        "    def area(self):\n",
        "        return\n",
        "        self.length * self.width\n",
        "\n",
        "#example\n",
        "rect = Rectangle()\n",
        "rect.set_dimensions(4, 8)\n",
        "print(rect.area())\n"
      ],
      "metadata": {
        "colab": {
          "base_uri": "https://localhost:8080/"
        },
        "id": "adu8-ikYIL8V",
        "outputId": "6e7d332d-0e86-4a93-98ac-b714d08ff7b4"
      },
      "execution_count": 25,
      "outputs": [
        {
          "output_type": "stream",
          "name": "stdout",
          "text": [
            "None\n"
          ]
        }
      ]
    },
    {
      "cell_type": "markdown",
      "source": [
        "Ques 14- Create a class Employee with a method calculate_salary() that computes the salary based on hours worked and hourly rate. Create a derived class Manager that adds a bonus to the salary."
      ],
      "metadata": {
        "id": "cvM5FweuHjUI"
      }
    },
    {
      "cell_type": "code",
      "source": [
        "#Ans 14-\n",
        "class Employee:\n",
        "    def __init__(self, hours, hourly_rate):\n",
        "        self.hours = hours\n",
        "        self.hourly_rate = hourly_rate\n",
        "\n",
        "    def calculate_salary(self):\n",
        "        return self.hours * self.hourly_rate\n",
        "\n",
        "class Manager(Employee):\n",
        "    def __init__(self, hours, hourly_rate, bonus):\n",
        "        super().__init__(hours, hourly_rate)\n",
        "        self.bonus = bonus\n",
        "\n",
        "    def calculate_salary(self):\n",
        "        return super().calculate_salary() + self.bonus\n",
        "\n",
        "#example\n",
        "manager = Manager(245, 23, 825)\n",
        "print(f\"Salary: {manager.calculate_salary()}\")"
      ],
      "metadata": {
        "colab": {
          "base_uri": "https://localhost:8080/"
        },
        "id": "wW-RAaFMIZKi",
        "outputId": "e070943d-873c-41a4-bf1e-d75c4a56f20e"
      },
      "execution_count": 27,
      "outputs": [
        {
          "output_type": "stream",
          "name": "stdout",
          "text": [
            "Salary: 6460\n"
          ]
        }
      ]
    },
    {
      "cell_type": "markdown",
      "source": [
        "Ques 15- Create a class Product with attributes name, price, and quantity. Implement a method total_price() that calculates the total price of the product.\n",
        "\n",
        "\n"
      ],
      "metadata": {
        "id": "aMCddN9rHpxf"
      }
    },
    {
      "cell_type": "code",
      "source": [
        "#Ans 15-\n",
        "class Product:\n",
        "    def __init__(self, name, price, quantity):\n",
        "        self.name = name\n",
        "        self.price = price\n",
        "        self.quantity = quantity\n",
        "\n",
        "    def total_price(self):\n",
        "        return self.price * self.quantity\n",
        "\n",
        "#example\n",
        "product = Product(\"Laptop\", 1500, 3)\n",
        "print(f\"Total Price: {product.total_price()}\")\n"
      ],
      "metadata": {
        "colab": {
          "base_uri": "https://localhost:8080/"
        },
        "id": "2TxrD-RqIriS",
        "outputId": "4cfcdd80-c387-4a2e-eb2c-4d2bd20a81b0"
      },
      "execution_count": 30,
      "outputs": [
        {
          "output_type": "stream",
          "name": "stdout",
          "text": [
            "Total Price: 4500\n"
          ]
        }
      ]
    },
    {
      "cell_type": "markdown",
      "source": [
        "Ques 16-  Create a class Animal with an abstract method sound(). Create two derived classes Cow and Sheep that implement the sound() method."
      ],
      "metadata": {
        "id": "Eu3CTRIvHv3F"
      }
    },
    {
      "cell_type": "code",
      "source": [
        "#Ans 16-\n",
        "from abc import ABC, abstractmethod\n",
        "\n",
        "class Animal(ABC):\n",
        "    @abstractmethod\n",
        "    def sound(self):\n",
        "        pass\n",
        "\n",
        "class Cow(Animal):\n",
        "    def sound(self):\n",
        "        print(\"Moo!\")\n",
        "\n",
        "class Sheep(Animal):\n",
        "    def sound(self):\n",
        "        print(\"Baa!\")\n",
        "\n",
        "#example\n",
        "cow = Cow()\n",
        "cow.sound()\n",
        "\n",
        "sheep = Sheep()\n",
        "sheep.sound()"
      ],
      "metadata": {
        "colab": {
          "base_uri": "https://localhost:8080/"
        },
        "id": "w98KEJdOJF-i",
        "outputId": "1101eeff-299c-4a57-edf1-f947105da508"
      },
      "execution_count": 32,
      "outputs": [
        {
          "output_type": "stream",
          "name": "stdout",
          "text": [
            "Moo!\n",
            "Baa!\n"
          ]
        }
      ]
    },
    {
      "cell_type": "markdown",
      "source": [
        "Ques 17- Create a class Book with attributes title, author, and year_published. Add a method get_book_info() that returns a formatted string with the book's details."
      ],
      "metadata": {
        "id": "lQkcuFZGH1os"
      }
    },
    {
      "cell_type": "code",
      "source": [
        "#Ans 17-\n",
        "class Book:\n",
        "    def __init__(self, title, author, year_published):\n",
        "        self.title = title\n",
        "        self.author = author\n",
        "        self.year_published = year_published\n",
        "\n",
        "    def get_book_info(self):\n",
        "        return f\"Title: {self.title}, Author: {self.author}, Year Published: {self.year_published}\"\n",
        "\n",
        "#example\n",
        "book = Book(\"1984\", \"George Orwell\", 1949)\n",
        "print(book.get_book_info())"
      ],
      "metadata": {
        "colab": {
          "base_uri": "https://localhost:8080/"
        },
        "id": "qL1QT_EcJYts",
        "outputId": "52f6e73e-1f2b-4520-f4a2-e7dab9f06c1e"
      },
      "execution_count": 39,
      "outputs": [
        {
          "output_type": "stream",
          "name": "stdout",
          "text": [
            "Title: 1984, Author: George Orwell, Year Published: 1949\n"
          ]
        }
      ]
    },
    {
      "cell_type": "markdown",
      "source": [
        "Ques 18- Create a class House with attributes address and price. Create a derived class Mansion that adds an attribute number_of_rooms."
      ],
      "metadata": {
        "id": "bWxk89v0H6MQ"
      }
    },
    {
      "cell_type": "code",
      "source": [
        "#Ans 18-\n",
        "class House:\n",
        "    def __init__(self, address, price):\n",
        "        self.address = address\n",
        "        self.price = price\n",
        "        self.number_of_rooms = None\n",
        "\n",
        "class Mansion(House):\n",
        "    def __init__(self, address, price, number_of_rooms):\n",
        "        super().__init__(address, price)\n",
        "        self.number_of_rooms = number_of_rooms\n",
        "\n",
        "#example\n",
        "mansion = Mansion(\"123 Main St\", 250000, 8)\n",
        "print(f\"Address: {mansion.address}, Price: {mansion.price}, Number of Rooms: {mansion.number_of_rooms}\")"
      ],
      "metadata": {
        "colab": {
          "base_uri": "https://localhost:8080/"
        },
        "id": "mi4MlG3MJ7n5",
        "outputId": "c1d4d1fb-5cfb-4f3f-887a-8418112e2793"
      },
      "execution_count": 40,
      "outputs": [
        {
          "output_type": "stream",
          "name": "stdout",
          "text": [
            "Address: 123 Main St, Price: 250000, Number of Rooms: 8\n"
          ]
        }
      ]
    },
    {
      "cell_type": "code",
      "source": [],
      "metadata": {
        "id": "CzRjUyZTKBak"
      },
      "execution_count": null,
      "outputs": []
    }
  ]
}